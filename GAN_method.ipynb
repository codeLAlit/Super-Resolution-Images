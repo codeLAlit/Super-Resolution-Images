{
  "nbformat": 4,
  "nbformat_minor": 0,
  "metadata": {
    "colab": {
      "name": "SR2.ipynb",
      "provenance": [],
      "collapsed_sections": []
    },
    "kernelspec": {
      "name": "python3",
      "display_name": "Python 3"
    },
    "accelerator": "GPU"
  },
  "cells": [
    {
      "cell_type": "markdown",
      "metadata": {
        "id": "QBQ-Gwo6eBz-",
        "colab_type": "text"
      },
      "source": [
        "# Variational AutoEncoders"
      ]
    },
    {
      "cell_type": "code",
      "metadata": {
        "id": "r-EZtcsod-Xy",
        "colab_type": "code",
        "colab": {
          "base_uri": "https://localhost:8080/",
          "height": 295
        },
        "outputId": "475930e4-fc17-40c3-8299-a57025a3980b"
      },
      "source": [
        "!pip install imageio\n",
        "!pip install tfp-nightly"
      ],
      "execution_count": 1,
      "outputs": [
        {
          "output_type": "stream",
          "text": [
            "Requirement already satisfied: imageio in /usr/local/lib/python3.6/dist-packages (2.4.1)\n",
            "Requirement already satisfied: numpy in /usr/local/lib/python3.6/dist-packages (from imageio) (1.18.5)\n",
            "Requirement already satisfied: pillow in /usr/local/lib/python3.6/dist-packages (from imageio) (7.0.0)\n",
            "Collecting tfp-nightly\n",
            "\u001b[?25l  Downloading https://files.pythonhosted.org/packages/f0/22/a232efd3c55156b13d9e2f3e6a132a7ee8ce44fa7283e34a5dae55f23beb/tfp_nightly-0.11.0.dev20200706-py2.py3-none-any.whl (4.2MB)\n",
            "\u001b[K     |████████████████████████████████| 4.2MB 28kB/s \n",
            "\u001b[?25hRequirement already satisfied: six>=1.10.0 in /usr/local/lib/python3.6/dist-packages (from tfp-nightly) (1.12.0)\n",
            "Requirement already satisfied: decorator in /usr/local/lib/python3.6/dist-packages (from tfp-nightly) (4.4.2)\n",
            "Collecting dm-tree\n",
            "\u001b[?25l  Downloading https://files.pythonhosted.org/packages/16/48/10fb721334810081b7e6eebeba0d12e12126c76993e8c243062d2f56a89f/dm_tree-0.1.5-cp36-cp36m-manylinux1_x86_64.whl (294kB)\n",
            "\u001b[K     |████████████████████████████████| 296kB 9.7MB/s \n",
            "\u001b[?25hRequirement already satisfied: numpy>=1.13.3 in /usr/local/lib/python3.6/dist-packages (from tfp-nightly) (1.18.5)\n",
            "Requirement already satisfied: cloudpickle==1.3 in /usr/local/lib/python3.6/dist-packages (from tfp-nightly) (1.3.0)\n",
            "Requirement already satisfied: gast>=0.3.2 in /usr/local/lib/python3.6/dist-packages (from tfp-nightly) (0.3.3)\n",
            "Installing collected packages: dm-tree, tfp-nightly\n",
            "Successfully installed dm-tree-0.1.5 tfp-nightly-0.11.0.dev20200706\n"
          ],
          "name": "stdout"
        }
      ]
    },
    {
      "cell_type": "code",
      "metadata": {
        "id": "uZ77_fGMebPD",
        "colab_type": "code",
        "colab": {}
      },
      "source": [
        "from IPython import display\n",
        "\n",
        "import glob\n",
        "import imageio\n",
        "import matplotlib.pyplot as plt\n",
        "import numpy as np\n",
        "import tensorflow as tf\n",
        "import tensorflow_probability as tfp\n",
        "import time\n",
        "import PIL"
      ],
      "execution_count": 2,
      "outputs": []
    },
    {
      "cell_type": "code",
      "metadata": {
        "id": "xzKMMtEv9SIF",
        "colab_type": "code",
        "colab": {
          "base_uri": "https://localhost:8080/",
          "height": 35
        },
        "outputId": "527b9ccd-2dc2-45c7-e1cf-1fc3bcbadbd2"
      },
      "source": [
        "tf.__version__"
      ],
      "execution_count": 3,
      "outputs": [
        {
          "output_type": "execute_result",
          "data": {
            "application/vnd.google.colaboratory.intrinsic": {
              "type": "string"
            },
            "text/plain": [
              "'2.2.0'"
            ]
          },
          "metadata": {
            "tags": []
          },
          "execution_count": 3
        }
      ]
    },
    {
      "cell_type": "code",
      "metadata": {
        "id": "nl3EaZuGexdt",
        "colab_type": "code",
        "colab": {
          "base_uri": "https://localhost:8080/",
          "height": 52
        },
        "outputId": "7e6f1617-a81d-4240-b69a-b418558b21e1"
      },
      "source": [
        "(train_images, __) , (test_images, __) = tf.keras.datasets.mnist.load_data()"
      ],
      "execution_count": 4,
      "outputs": [
        {
          "output_type": "stream",
          "text": [
            "Downloading data from https://storage.googleapis.com/tensorflow/tf-keras-datasets/mnist.npz\n",
            "11493376/11490434 [==============================] - 0s 0us/step\n"
          ],
          "name": "stdout"
        }
      ]
    },
    {
      "cell_type": "code",
      "metadata": {
        "id": "_EFpA6iHfQmi",
        "colab_type": "code",
        "colab": {}
      },
      "source": [
        "def preprocess_images(images):\n",
        "  images = images.reshape((images.shape[0], 28, 28, 1))/255.0\n",
        "  # return images.astype('float32')\n",
        "  return np.where(images > 0.5 , 1.0 , 0.0).astype('float32') ## Converting data in bernoulli distribution\n",
        "  ### To do #### Why converting to bernoulli distribution is necessary."
      ],
      "execution_count": 5,
      "outputs": []
    },
    {
      "cell_type": "code",
      "metadata": {
        "id": "o3hTuRWhf3ru",
        "colab_type": "code",
        "colab": {}
      },
      "source": [
        "train_images = preprocess_images(train_images)\n",
        "test_images = preprocess_images(test_images)"
      ],
      "execution_count": 6,
      "outputs": []
    },
    {
      "cell_type": "code",
      "metadata": {
        "id": "O_XT70LjgDYR",
        "colab_type": "code",
        "colab": {}
      },
      "source": [
        "train_size = 60000\n",
        "batch_size = 32\n",
        "test_size = 10000"
      ],
      "execution_count": 7,
      "outputs": []
    },
    {
      "cell_type": "code",
      "metadata": {
        "id": "wzvX4A_xgL6M",
        "colab_type": "code",
        "colab": {}
      },
      "source": [
        "train_dataset = (tf.data.Dataset.from_tensor_slices(train_images).shuffle(train_size).batch(batch_size))\n",
        "test_dataset = (tf.data.Dataset.from_tensor_slices(test_images).shuffle(test_size).batch(batch_size))"
      ],
      "execution_count": 8,
      "outputs": []
    },
    {
      "cell_type": "code",
      "metadata": {
        "id": "tO-5eaw4g_CE",
        "colab_type": "code",
        "colab": {}
      },
      "source": [
        "class Generator(tf.keras.Model):\n",
        "\n",
        "  def __init__(self, latent_dim):\n",
        "    super(Generator, self).__init__()\n",
        "    self.latent_dim=latent_dim\n",
        "    \n",
        "    self.encoder=tf.keras.Sequential([\n",
        "                                      tf.keras.layers.InputLayer(input_shape=(26,26,1)),\n",
        "                                      tf.keras.layers.Conv2D(\n",
        "                                          filters=32, kernel_size=3, strides=(2,2)\n",
        "                                      ),\n",
        "                                      tf.keras.layers.LeakyReLU(),\n",
        "                                      tf.keras.layers.Dropout(0.3),\n",
        "                                      tf.keras.layers.Conv2D(\n",
        "                                          filters=64, kernel_size=3, strides=(2,2)\n",
        "                                      ),\n",
        "                                      tf.keras.layers.LeakyReLU(),\n",
        "                                      tf.keras.layers.Dropout(0.3),                                     \n",
        "                                      tf.keras.layers.Flatten(),\n",
        "                                      tf.keras.layers.Dense(latent_dim+latent_dim)\n",
        "\n",
        "    ])\n",
        "    \n",
        "    self.generator=tf.keras.Sequential([\n",
        "                                      tf.keras.layers.InputLayer(input_shape=(latent_dim,)),\n",
        "                                      tf.keras.layers.Dense(units=196, activation=tf.nn.relu),\n",
        "                                      tf.keras.layers.Dropout(0.3),\n",
        "                                      tf.keras.layers.Dense(units=576, activation=tf.nn.relu),\n",
        "                                      tf.keras.layers.Dropout(0.3),\n",
        "                                      tf.keras.layers.Dense(units=784, activation=tf.nn.sigmoid),\n",
        "                                      tf.keras.layers.Reshape((28, 28, 1))\n",
        "    ])\n",
        "\n",
        "    \n",
        "\n",
        "  @tf.function\n",
        "  def sample(self, eps=None):\n",
        "    if eps is None:\n",
        "      eps = tf.random.normal(shape=(100, self.latent_dim))\n",
        "    return self.decode(eps, apply_sigmoid=True)\n",
        "  \n",
        "  def encode(self, x):\n",
        "    mean, logvar = tf.split(self.encoder(x), num_or_size_splits=2, axis=1)\n",
        "    return mean, logvar\n",
        "  \n",
        "  def reparameterize(self, mean, logvar): ## z=sigma(+)eps + mean\n",
        "    eps = tf.random.normal(shape=mean.shape)\n",
        "    return  eps*tf.exp(logvar*.5)+mean\n",
        "  \n",
        "  def decode(self, z, apply_sigmoid=False):\n",
        "    logits=self.generator(z)   \n",
        "    if apply_sigmoid :  \n",
        "      prob = tf.sigmoid(logits)\n",
        "      return prob\n",
        "    return logits\n",
        "  \n",
        "  def srimage(self, z):\n",
        "    logits=self.generator(z)\n",
        "    return tf.sigmoid(logits)"
      ],
      "execution_count": 16,
      "outputs": []
    },
    {
      "cell_type": "code",
      "metadata": {
        "id": "g9HzHLJeGY16",
        "colab_type": "code",
        "colab": {}
      },
      "source": [
        "class Discriminator(tf.keras.Model):\n",
        "\n",
        "  def __init__(self):\n",
        "    super(Discriminator, self).__init__()\n",
        "    self.discriminator=tf.keras.Sequential([\n",
        "                                            tf.keras.layers.InputLayer(input_shape=(28, 28, 1)),\n",
        "                                            tf.keras.layers.Conv2D(\n",
        "                                                filters=64, kernel_size=5, strides=2, padding='same'\n",
        "                                            ),\n",
        "                                            tf.keras.layers.LeakyReLU(),\n",
        "                                            tf.keras.layers.Dropout(0.3),\n",
        "                                            tf.keras.layers.Conv2D(\n",
        "                                                filters=128, kernel_size=5, strides=2, padding='same'\n",
        "                                            ),\n",
        "                                            tf.keras.layers.LeakyReLU(),\n",
        "                                            tf.keras.layers.Dropout(0.3),\n",
        "                                            tf.keras.layers.Flatten(),\n",
        "                                            tf.keras.layers.Dense(1)\n",
        "\n",
        "    ])\n",
        "  @tf.function\n",
        "  def discriminate(self, input):\n",
        "    return self.discriminator(input)\n"
      ],
      "execution_count": 27,
      "outputs": []
    },
    {
      "cell_type": "code",
      "metadata": {
        "id": "2v2ekZz8GmLY",
        "colab_type": "code",
        "colab": {}
      },
      "source": [
        "def distort_batch(batch):\n",
        "    batch_size = len(batch)\n",
        "    row_distort = np.random.randint(0, 3, batch_size)\n",
        "    col_distort = np.random.randint(0, 3, batch_size)\n",
        "    result = np.zeros(shape=(batch_size, 26, 26, 1), dtype=np.float32)\n",
        "    for i in range(batch_size):\n",
        "      result[i, :, :, :] = batch[i, row_distort[i]:row_distort[i]+26, col_distort[i]:col_distort[i]+26, :]\n",
        "    return result"
      ],
      "execution_count": 46,
      "outputs": []
    },
    {
      "cell_type": "code",
      "metadata": {
        "id": "SRJvM24mdO87",
        "colab_type": "code",
        "colab": {}
      },
      "source": [
        "optimizer_gen = tf.keras.optimizers.Adam(1e-4)\n",
        "optimizer_disc = tf.keras.optimizers.Adam(1e-4)\n",
        "\n",
        "cross_entropy = tf.keras.losses.BinaryCrossentropy(from_logits=True)\n",
        "\n",
        "def gen_loss(fake_output):\n",
        "  return cross_entropy(tf.ones_like(fake_output), fake_output)\n",
        "\n",
        "def disc_loss(real_output, fake_output):\n",
        "  real_loss=cross_entropy(tf.ones_like(real_output), real_output)\n",
        "  fake_loss=cross_entropy(tf.zeros_like(fake_output), fake_output)\n",
        "  total_loss=real_loss+fake_loss\n",
        "  return total_loss\n",
        "\n",
        "def reconstruction_loss(actual, reconstructed):\n",
        "  mean_squared_error = tf.keras.losses.MeanSquaredError()\n",
        "  loss=mean_squared_error(actual, reconstructed)\n",
        "  return loss\n",
        "\n",
        "\n",
        "lambda_vae=1\n",
        "lambda_gen=0.001\n",
        "\n",
        "def total_gen_loss(hr, sr, fakes):\n",
        "  recon_loss=reconstruction_loss(hr, sr)\n",
        "  generator_loss=gen_loss(fakes)\n",
        "  lossGen=lambda_gen*generator_loss+lambda_vae*recon_loss\n",
        "  return lossGen\n",
        "\n",
        "def compute_loss(model_gen, model_disc, x):\n",
        "  x_26=distort_batch(x)\n",
        "  mean, log_var=model_gen.encode(x_26)\n",
        "  z=model_gen.reparameterize(mean, log_var)\n",
        "  images=model_gen.decode(z)\n",
        "  fake_output=model_disc.discriminate(images)\n",
        "  loss=total_gen_loss(x, images, fake_output)\n",
        "  return loss\n",
        "\n",
        "\n",
        "@tf.function\n",
        "def train_step(model_gen, model_disc, x, x_26, optimizer_gen , optimizer_disc):\n",
        "  with tf.GradientTape() as gen_tape, tf.GradientTape() as disc_tape:\n",
        "    ## x we got is of (None, 28, 28, 1)\n",
        "    mean, log_var=model_gen.encode(x_26)\n",
        "    z=model_gen.reparameterize(mean, log_var)\n",
        "    images=model_gen.decode(z)\n",
        "    real_output=model_disc.discriminate(x)\n",
        "    fake_output=model_disc.discriminate(images)\n",
        "    lossDisc=disc_loss(real_output, fake_output)\n",
        "    lossGen=total_gen_loss(x, images, fake_output)\n",
        "\n",
        "\n",
        "  gradients_gen = gen_tape.gradient(lossGen, model_gen.trainable_variables)\n",
        "  optimizer_gen.apply_gradients(zip(gradients_gen, model_gen.trainable_variables))\n",
        "\n",
        "  gradients_disc = disc_tape.gradient(lossDisc, model_disc.trainable_variables)\n",
        "  optimizer_disc.apply_gradients(zip(gradients_disc, model_disc.trainable_variables))\n",
        "\n"
      ],
      "execution_count": 53,
      "outputs": []
    },
    {
      "cell_type": "code",
      "metadata": {
        "id": "-S0SQYcXvmQg",
        "colab_type": "code",
        "colab": {}
      },
      "source": [
        "epochs = 10\n",
        "latent_dim = 20\n",
        "num_examples_to_generate = 16\n",
        "\n",
        "random_vector_for_generation = tf.random.normal( shape=[num_examples_to_generate, latent_dim])\n",
        "model_gen= Generator(latent_dim)\n",
        "model_disc=Discriminator()"
      ],
      "execution_count": 37,
      "outputs": []
    },
    {
      "cell_type": "code",
      "metadata": {
        "id": "ezXILsyRtsdL",
        "colab_type": "code",
        "colab": {
          "base_uri": "https://localhost:8080/",
          "height": 548
        },
        "outputId": "b6c66127-193e-4fa1-f52d-bded76804879"
      },
      "source": [
        "test_input=train_images[0]\n",
        "test_input=test_input.reshape(1, 28, 28, 1)\n",
        "print(test_input.shape)\n",
        "\n",
        "ds_image=distort_batch(test_input)\n",
        "mean, logvar=model_gen.encode(ds_image)\n",
        "z = model_gen.reparameterize(mean, logvar)\n",
        "image=model_gen.decode(z)\n",
        "\n",
        "ds_image=distort_batch(test_input)\n",
        "\n",
        "plt.figure()\n",
        "plt.imshow(image[0, :, :, 0], cmap='gray')\n",
        "plt.show()\n",
        "\n",
        "plt.figure()\n",
        "plt.imshow(ds_image[0, :, :, 0], cmap='gray')\n",
        "plt.show()\n",
        "\n",
        "prediction=model_disc.discriminate(image)\n",
        "print(prediction)"
      ],
      "execution_count": 47,
      "outputs": [
        {
          "output_type": "stream",
          "text": [
            "(1, 28, 28, 1)\n"
          ],
          "name": "stdout"
        },
        {
          "output_type": "display_data",
          "data": {
            "image/png": "[encoded data removed]",
            "text/plain": [
              "<Figure size 432x288 with 1 Axes>"
            ]
          },
          "metadata": {
            "tags": [],
            "needs_background": "light"
          }
        },
        {
          "output_type": "display_data",
          "data": {
            "image/png": "[encoded data removed]",
            "text/plain": [
              "<Figure size 432x288 with 1 Axes>"
            ]
          },
          "metadata": {
            "tags": [],
            "needs_background": "light"
          }
        },
        {
          "output_type": "stream",
          "text": [
            "tf.Tensor([[0.0141753]], shape=(1, 1), dtype=float32)\n"
          ],
          "name": "stdout"
        }
      ]
    },
    {
      "cell_type": "code",
      "metadata": {
        "id": "76xeEmFHwL5T",
        "colab_type": "code",
        "colab": {}
      },
      "source": [
        "def generate_and_save_images(model_gen, epoch, test_sample):\n",
        "  mean, logvar = model_gen.encode(test_sample)\n",
        "  z = model_gen.reparameterize(mean, logvar)\n",
        "  predictions = model_gen.decode(z)\n",
        "  fig=plt.figure(figsize=(4,4))\n",
        "\n",
        "  for i in range(predictions.shape[0]):\n",
        "    plt.subplot(4, 4, i+1)\n",
        "    plt.imshow(predictions[i, :, :, 0], cmap='gray')\n",
        "    plt.axis('off')\n",
        "  plt.show()\n"
      ],
      "execution_count": 39,
      "outputs": []
    },
    {
      "cell_type": "code",
      "metadata": {
        "id": "t-UmmF6ixi0d",
        "colab_type": "code",
        "colab": {}
      },
      "source": [
        "assert batch_size >= num_examples_to_generate\n",
        "for test_batch in test_dataset.take(1):\n",
        "  test_sample = test_batch[0:num_examples_to_generate, :, :, :]\n",
        "  test_sample=distort_batch(test_sample)\n"
      ],
      "execution_count": 40,
      "outputs": []
    },
    {
      "cell_type": "code",
      "metadata": {
        "id": "gWS5YW3hVDwI",
        "colab_type": "code",
        "colab": {
          "base_uri": "https://localhost:8080/",
          "height": 265
        },
        "outputId": "5d58385e-7304-438e-a6bd-cba2b2e537d3"
      },
      "source": [
        "for i in range(test_sample.shape[0]):\n",
        "    plt.subplot(4, 4, i+1)\n",
        "    plt.imshow(test_sample[i, :, :, 0], cmap='gray')\n",
        "    plt.axis('off')\n",
        "\n",
        "print(test_sample.shape[1:])"
      ],
      "execution_count": 41,
      "outputs": [
        {
          "output_type": "stream",
          "text": [
            "(26, 26, 1)\n"
          ],
          "name": "stdout"
        },
        {
          "output_type": "display_data",
          "data": {
            "image/png": "[encoded data removed]",
            "text/plain": [
              "<Figure size 432x288 with 16 Axes>"
            ]
          },
          "metadata": {
            "tags": [],
            "needs_background": "light"
          }
        }
      ]
    },
    {
      "cell_type": "code",
      "metadata": {
        "id": "6Pj71labxqGr",
        "colab_type": "code",
        "colab": {
          "base_uri": "https://localhost:8080/",
          "height": 265
        },
        "outputId": "e71f90b8-3844-44b7-e7e6-c25dc27c9c10"
      },
      "source": [
        "generate_and_save_images(model_gen, 0, test_sample)\n",
        "\n",
        "for epoch in range(1, epochs + 1):\n",
        "  start_time = time.time()\n",
        "  for train_x in train_dataset:\n",
        "    train_x_26=distort_batch(train_x)\n",
        "    train_step(model_gen, model_disc, train_x, train_x_26, optimizer_disc, optimizer_gen)\n",
        "  end_time = time.time()\n",
        "\n",
        "  loss = tf.keras.metrics.Mean()\n",
        "  for test_x in test_dataset:\n",
        "    loss(compute_loss(model_gen, model_disc, test_x))\n",
        "  elbo = -loss.result()\n",
        "  display.clear_output(wait=False)\n",
        "  print('Epoch: {} Loss:{}, time elapse for current epoch: {}'\n",
        "        .format(epoch, elbo, end_time - start_time))\n",
        "  generate_and_save_images(model_gen, epoch, test_sample)\n"
      ],
      "execution_count": 54,
      "outputs": [
        {
          "output_type": "stream",
          "text": [
            "Epoch: 10 Loss:-0.05251232534646988, time elapse for current epoch: 54.76701354980469\n"
          ],
          "name": "stdout"
        },
        {
          "output_type": "display_data",
          "data": {
            "image/png": "[encoded data removed]",
            "text/plain": [
              "<Figure size 288x288 with 16 Axes>"
            ]
          },
          "metadata": {
            "tags": [],
            "needs_background": "light"
          }
        }
      ]
    }
  ]
}