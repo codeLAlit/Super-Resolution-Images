{
 "cells": [
  {
   "cell_type": "markdown",
   "metadata": {
    "colab_type": "text",
    "id": "QBQ-Gwo6eBz-"
   },
   "source": [
    "# Variational AutoEncoders"
   ]
  },
  {
   "cell_type": "code",
   "execution_count": 1,
   "metadata": {
    "colab": {
     "base_uri": "https://localhost:8080/",
     "height": 295
    },
    "colab_type": "code",
    "id": "r-EZtcsod-Xy",
    "outputId": "42f1cfa7-34a6-406c-9413-004a67e0ea6c"
   },
   "outputs": [
    {
     "name": "stdout",
     "output_type": "stream",
     "text": [
      "Requirement already satisfied: imageio in /usr/local/lib/python3.6/dist-packages (2.4.1)\n",
      "Requirement already satisfied: numpy in /usr/local/lib/python3.6/dist-packages (from imageio) (1.18.5)\n",
      "Requirement already satisfied: pillow in /usr/local/lib/python3.6/dist-packages (from imageio) (7.0.0)\n",
      "Collecting tfp-nightly\n",
      "\u001b[?25l  Downloading https://files.pythonhosted.org/packages/55/fa/67abcdd2fb404e93ac9d282db1e14e9a5d0794b6c65081084573ebb7a3f7/tfp_nightly-0.11.0.dev20200715-py2.py3-none-any.whl (4.3MB)\n",
      "\u001b[K     |████████████████████████████████| 4.3MB 2.8MB/s \n",
      "\u001b[?25hRequirement already satisfied: numpy>=1.13.3 in /usr/local/lib/python3.6/dist-packages (from tfp-nightly) (1.18.5)\n",
      "Collecting dm-tree\n",
      "\u001b[?25l  Downloading https://files.pythonhosted.org/packages/16/48/10fb721334810081b7e6eebeba0d12e12126c76993e8c243062d2f56a89f/dm_tree-0.1.5-cp36-cp36m-manylinux1_x86_64.whl (294kB)\n",
      "\u001b[K     |████████████████████████████████| 296kB 32.4MB/s \n",
      "\u001b[?25hRequirement already satisfied: six>=1.10.0 in /usr/local/lib/python3.6/dist-packages (from tfp-nightly) (1.12.0)\n",
      "Requirement already satisfied: cloudpickle==1.3 in /usr/local/lib/python3.6/dist-packages (from tfp-nightly) (1.3.0)\n",
      "Requirement already satisfied: decorator in /usr/local/lib/python3.6/dist-packages (from tfp-nightly) (4.4.2)\n",
      "Requirement already satisfied: gast>=0.3.2 in /usr/local/lib/python3.6/dist-packages (from tfp-nightly) (0.3.3)\n",
      "Installing collected packages: dm-tree, tfp-nightly\n",
      "Successfully installed dm-tree-0.1.5 tfp-nightly-0.11.0.dev20200715\n"
     ]
    }
   ],
   "source": [
    "!pip install imageio\n",
    "!pip install tfp-nightly"
   ]
  },
  {
   "cell_type": "code",
   "execution_count": 2,
   "metadata": {
    "colab": {},
    "colab_type": "code",
    "id": "uZ77_fGMebPD"
   },
   "outputs": [],
   "source": [
    "from IPython import display\n",
    "\n",
    "import glob\n",
    "import imageio\n",
    "import matplotlib.pyplot as plt\n",
    "import numpy as np\n",
    "import tensorflow as tf\n",
    "import tensorflow_probability as tfp\n",
    "import time\n",
    "import PIL"
   ]
  },
  {
   "cell_type": "code",
   "execution_count": 3,
   "metadata": {
    "colab": {
     "base_uri": "https://localhost:8080/",
     "height": 35
    },
    "colab_type": "code",
    "id": "xzKMMtEv9SIF",
    "outputId": "1ef02a6d-8fbf-4ea8-901a-964e51326c81"
   },
   "outputs": [
    {
     "data": {
      "application/vnd.google.colaboratory.intrinsic": {
       "type": "string"
      },
      "text/plain": [
       "'2.2.0'"
      ]
     },
     "execution_count": 3,
     "metadata": {
      "tags": []
     },
     "output_type": "execute_result"
    }
   ],
   "source": [
    "tf.__version__"
   ]
  },
  {
   "cell_type": "code",
   "execution_count": 4,
   "metadata": {
    "colab": {
     "base_uri": "https://localhost:8080/",
     "height": 52
    },
    "colab_type": "code",
    "id": "nl3EaZuGexdt",
    "outputId": "68ab89a2-a45c-4ea7-c596-d58011f9df46"
   },
   "outputs": [
    {
     "name": "stdout",
     "output_type": "stream",
     "text": [
      "Downloading data from https://storage.googleapis.com/tensorflow/tf-keras-datasets/mnist.npz\n",
      "11493376/11490434 [==============================] - 0s 0us/step\n"
     ]
    }
   ],
   "source": [
    "(train_images, __) , (test_images, __) = tf.keras.datasets.mnist.load_data()"
   ]
  },
  {
   "cell_type": "code",
   "execution_count": 5,
   "metadata": {
    "colab": {},
    "colab_type": "code",
    "id": "_EFpA6iHfQmi"
   },
   "outputs": [],
   "source": [
    "def preprocess_images(images):\n",
    "  images = images.reshape((images.shape[0], 28, 28, 1))/255.0\n",
    "  return np.where(images > 0.5 , 1.0 , 0.0).astype('float32') ## Converting data in bernoulli distribution\n"
   ]
  },
  {
   "cell_type": "code",
   "execution_count": 6,
   "metadata": {
    "colab": {},
    "colab_type": "code",
    "id": "o3hTuRWhf3ru"
   },
   "outputs": [],
   "source": [
    "train_images = preprocess_images(train_images)\n",
    "test_images = preprocess_images(test_images)"
   ]
  },
  {
   "cell_type": "code",
   "execution_count": 7,
   "metadata": {
    "colab": {},
    "colab_type": "code",
    "id": "O_XT70LjgDYR"
   },
   "outputs": [],
   "source": [
    "train_size = 60000\n",
    "batch_size = 32\n",
    "test_size = 10000"
   ]
  },
  {
   "cell_type": "code",
   "execution_count": 8,
   "metadata": {
    "colab": {},
    "colab_type": "code",
    "id": "wzvX4A_xgL6M"
   },
   "outputs": [],
   "source": [
    "train_dataset = (tf.data.Dataset.from_tensor_slices(train_images).shuffle(train_size).batch(batch_size))\n",
    "test_dataset = (tf.data.Dataset.from_tensor_slices(test_images).shuffle(test_size).batch(batch_size))"
   ]
  },
  {
   "cell_type": "code",
   "execution_count": 9,
   "metadata": {
    "colab": {},
    "colab_type": "code",
    "id": "tO-5eaw4g_CE"
   },
   "outputs": [],
   "source": [
    "class Generator(tf.keras.Model):\n",
    "\n",
    "  def __init__(self, latent_dim, bw=True, depth=32):\n",
    "    super(Generator, self).__init__()\n",
    "    self.latent_dim=latent_dim\n",
    "    self.channel=1 if bw else 3\n",
    "    self.encoder=tf.keras.Sequential([\n",
    "                                      tf.keras.layers.InputLayer(input_shape=(26,26,1)),\n",
    "                                      tf.keras.layers.Conv2D(\n",
    "                                          filters=32, kernel_size=3, strides=(2,2)\n",
    "                                      ),\n",
    "                                      tf.keras.layers.LeakyReLU(),\n",
    "                                      tf.keras.layers.Dropout(0.3),\n",
    "                                      tf.keras.layers.Conv2D(\n",
    "                                          filters=64, kernel_size=3, strides=(2,2)\n",
    "                                      ),\n",
    "                                      tf.keras.layers.LeakyReLU(),\n",
    "                                      tf.keras.layers.Dropout(0.3),                                     \n",
    "                                      tf.keras.layers.Flatten(),\n",
    "                                      tf.keras.layers.Dense(latent_dim+latent_dim)\n",
    "\n",
    "    ])\n",
    "    \n",
    "    self.cppn=tf.keras.Sequential([\n",
    "                                  tf.keras.layers.Dense(units=depth, activation='tanh', input_shape=(latent_dim+3, )),\n",
    "                                  tf.keras.layers.Dense(units=depth, activation='tanh'),\n",
    "                                  tf.keras.layers.Dense(units=depth, activation='tanh'),\n",
    "                                  tf.keras.layers.Dense(1 if bw else 3)\n",
    "                                  \n",
    "    ])\n",
    "\n",
    "    \n",
    "\n",
    "  @tf.function\n",
    "  def sample(self, eps=None):\n",
    "    if eps is None:\n",
    "      eps = tf.random.normal(shape=(100, self.latent_dim))\n",
    "    return self.decode(eps, apply_sigmoid=True)\n",
    "  \n",
    "  def coordinates(self, x_dim, y_dim, scale=1.0, batch_size=32):\n",
    "    n_pixel = x_dim * y_dim\n",
    "    x_range = scale*(np.arange(x_dim)-(x_dim-1)/2.0)/(x_dim-1)/0.5\n",
    "    y_range = scale*(np.arange(y_dim)-(y_dim-1)/2.0)/(y_dim-1)/0.5\n",
    "    x_mat = np.matmul(np.ones((y_dim, 1)), x_range.reshape((1, x_dim)))\n",
    "    y_mat = np.matmul(y_range.reshape((y_dim, 1)), np.ones((1, x_dim)))\n",
    "    r_mat = np.sqrt(x_mat*x_mat + y_mat*y_mat)\n",
    "    x_mat = np.tile(x_mat.flatten(), batch_size).reshape(batch_size, n_pixel, 1).astype('float32')\n",
    "    y_mat = np.tile(y_mat.flatten(), batch_size).reshape(batch_size, n_pixel, 1).astype('float32')\n",
    "    r_mat = np.tile(r_mat.flatten(), batch_size).reshape(batch_size, n_pixel, 1).astype('float32')\n",
    "    return x_mat, y_mat, r_mat\n",
    "\n",
    "  def create_image(self, x, x_dim, y, y_dim, r, z, batch_size, scale=1.0):\n",
    "    gen_n_points = x_dim * y_dim\n",
    "    z_dim=self.latent_dim\n",
    "    z_scaled = tf.reshape(z, [batch_size, 1, z_dim]) * \\\n",
    "                    tf.ones([gen_n_points, 1], dtype=tf.float32) * scale\n",
    "    z_unroll = tf.reshape(z_scaled, [batch_size*gen_n_points, z_dim])\n",
    "    x_unroll = tf.reshape(x, [batch_size*gen_n_points, 1])\n",
    "    y_unroll = tf.reshape(y, [batch_size*gen_n_points, 1])\n",
    "    r_unroll = tf.reshape(r, [batch_size*gen_n_points, 1])\n",
    "\n",
    "    IN=tf.concat([x_unroll, y_unroll, r_unroll, z_unroll], axis=1)\n",
    "    pred=self.cppn(IN)\n",
    "    \n",
    "    result = tf.reshape(pred, [batch_size, y_dim, x_dim, self.channel])\n",
    "\n",
    "    return result\n",
    "\n",
    "  def encode(self, x):\n",
    "    mean, logvar = tf.split(self.encoder(x), num_or_size_splits=2, axis=1)\n",
    "    return mean, logvar\n",
    "  \n",
    "  def reparameterize(self, mean, logvar): ## z=sigma(+)eps + mean\n",
    "    eps = tf.random.normal(shape=mean.shape)\n",
    "    return  eps*tf.exp(logvar*.5)+mean\n"
   ]
  },
  {
   "cell_type": "code",
   "execution_count": 10,
   "metadata": {
    "colab": {},
    "colab_type": "code",
    "id": "g9HzHLJeGY16"
   },
   "outputs": [],
   "source": [
    "class Discriminator(tf.keras.Model):\n",
    "\n",
    "  def __init__(self):\n",
    "    super(Discriminator, self).__init__()\n",
    "    self.discriminator=tf.keras.Sequential([\n",
    "                                            tf.keras.layers.InputLayer(input_shape=(28, 28, 1)),\n",
    "                                            tf.keras.layers.Conv2D(\n",
    "                                                filters=64, kernel_size=5, strides=2, padding='same'\n",
    "                                            ),\n",
    "                                            tf.keras.layers.LeakyReLU(),\n",
    "                                            tf.keras.layers.Dropout(0.3),\n",
    "                                            tf.keras.layers.Conv2D(\n",
    "                                                filters=128, kernel_size=5, strides=2, padding='same'\n",
    "                                            ),\n",
    "                                            tf.keras.layers.LeakyReLU(),\n",
    "                                            tf.keras.layers.Dropout(0.3),\n",
    "                                            tf.keras.layers.Flatten(),\n",
    "                                            tf.keras.layers.Dense(1)\n",
    "\n",
    "    ])\n",
    "  @tf.function\n",
    "  def discriminate(self, input):\n",
    "    return self.discriminator(input)\n"
   ]
  },
  {
   "cell_type": "code",
   "execution_count": 11,
   "metadata": {
    "colab": {},
    "colab_type": "code",
    "id": "2v2ekZz8GmLY"
   },
   "outputs": [],
   "source": [
    "def distort_batch(batch):\n",
    "    batch_size = len(batch)\n",
    "    row_distort = np.random.randint(0, 3, batch_size)\n",
    "    col_distort = np.random.randint(0, 3, batch_size)\n",
    "    result = np.zeros(shape=(batch_size, 26, 26, 1), dtype=np.float32)\n",
    "    for i in range(batch_size):\n",
    "      result[i, :, :, :] = batch[i, row_distort[i]:row_distort[i]+26, col_distort[i]:col_distort[i]+26, :]\n",
    "    return result"
   ]
  },
  {
   "cell_type": "code",
   "execution_count": 26,
   "metadata": {
    "colab": {},
    "colab_type": "code",
    "id": "SRJvM24mdO87"
   },
   "outputs": [],
   "source": [
    "optimizer_gen = tf.keras.optimizers.Adam(1e-4)\n",
    "optimizer_disc = tf.keras.optimizers.Adam(1e-4)\n",
    "\n",
    "cross_entropy = tf.keras.losses.BinaryCrossentropy(from_logits=True)\n",
    "\n",
    "def gen_loss(fake_output):\n",
    "  return cross_entropy(tf.ones_like(fake_output), fake_output)\n",
    "\n",
    "def disc_loss(real_output, fake_output):\n",
    "  real_loss=cross_entropy(tf.ones_like(real_output), real_output)\n",
    "  fake_loss=cross_entropy(tf.zeros_like(fake_output), fake_output)\n",
    "  total_loss=real_loss+fake_loss\n",
    "  return total_loss\n",
    "\n",
    "def reconstruction_loss(actual, reconstructed):\n",
    "  actual_flatten=tf.reshape(actual, [32, -1])\n",
    "  recon_flatten=tf.reshape(reconstructed, [32, -1])\n",
    "  loss=cross_entropy(actual, reconstructed)\n",
    "  return loss\n",
    "\n",
    "def log_normal_pdf(sample, mean, logvar, raxis=1):\n",
    "  log2pi = tf.math.log(2. * np.pi)\n",
    "  return tf.reduce_sum(\n",
    "      -.5 * ((sample - mean) ** 2. * tf.exp(-logvar) + logvar + log2pi),\n",
    "      axis=raxis)\n",
    "\n",
    "\n",
    "def kl_loss(x_logit, x, mean, logvar, z):\n",
    "  cross_ent = tf.nn.sigmoid_cross_entropy_with_logits(logits=x_logit, labels=x)\n",
    "  logpx_z = -tf.reduce_sum(cross_ent, axis=[1, 2, 3])\n",
    "  logpz = log_normal_pdf(z, 0., 0.)\n",
    "  logqz_x = log_normal_pdf(z, mean, logvar)\n",
    "  return -tf.reduce_mean(logpx_z + logpz - logqz_x)\n",
    "\n",
    "\n",
    "lambda_vae=1\n",
    "lambda_gen=0.01\n",
    "\n",
    "def total_gen_loss(hr, sr, fakes):\n",
    "  recon_loss=reconstruction_loss(hr, sr)\n",
    "  generator_loss=gen_loss(fakes)\n",
    "  lossGen=lambda_gen*generator_loss+lambda_vae*recon_loss\n",
    "  return lossGen\n",
    "\n",
    "def total_vae_loss(actual, reconstructed, mean, logvar, z):\n",
    "  recon_loss=reconstruction_loss(actual, reconstructed)\n",
    "  latent_loss=kl_loss(reconstructed, actual, mean, logvar, z)\n",
    "  return 0.5*(recon_loss+latent_loss)\n",
    "\n",
    "def compute_loss(model_gen, model_disc, x):\n",
    "  x_26=distort_batch(x)\n",
    "  mean, log_var=model_gen.encode(x_26)\n",
    "  z=model_gen.reparameterize(mean, log_var)\n",
    "  x_c, y_c, r=model_gen.coordinates(x_dim=28, y_dim=28, scale=1.0, batch_size=32)\n",
    "  images=model_gen.create_image(x_c, 28, y_c, 28, r, z, 32)\n",
    "  fake_output=model_disc.discriminate(images)\n",
    "  loss=total_gen_loss(x, images, fake_output)/32.0\n",
    "  return loss\n",
    "\n",
    "\n",
    "@tf.function\n",
    "def train_step(model_gen, model_disc, x, x_26, optimizer_gen , optimizer_disc):\n",
    "  with tf.GradientTape() as gen_tape, tf.GradientTape() as disc_tape, tf.GradientTape() as vae_tape:\n",
    "    ## x we got is of (None, 28, 28, 1)\n",
    "    mean, log_var=model_gen.encode(x_26)\n",
    "    z=model_gen.reparameterize(mean, log_var)\n",
    "    x_c, y_c, r=model_gen.coordinates(x_dim=28, y_dim=28, scale=1.0, batch_size=32)\n",
    "    images=model_gen.create_image(x_c, 28, y_c, 28, r, z, 32)\n",
    "    real_output=model_disc.discriminate(x)\n",
    "    fake_output=model_disc.discriminate(images)\n",
    "    lossDisc=disc_loss(real_output, fake_output)\n",
    "    lossGen=gen_loss(fake_output)\n",
    "    lossVae=total_vae_loss(x, images, mean, log_var, z)\n",
    "    lossGen=lambda_gen*lossGen+lambda_vae*lossVae\n",
    "\n",
    "  gradients_gen = gen_tape.gradient(lossGen, model_gen.trainable_variables)\n",
    "  optimizer_gen.apply_gradients(zip(gradients_gen, model_gen.trainable_variables))\n",
    "\n",
    "  gradients_disc = disc_tape.gradient(lossDisc, model_disc.trainable_variables)\n",
    "  optimizer_disc.apply_gradients(zip(gradients_disc, model_disc.trainable_variables))\n",
    "\n"
   ]
  },
  {
   "cell_type": "code",
   "execution_count": 27,
   "metadata": {
    "colab": {},
    "colab_type": "code",
    "id": "-S0SQYcXvmQg"
   },
   "outputs": [],
   "source": [
    "epochs = 30\n",
    "latent_dim = 20\n",
    "num_examples_to_generate = 32\n",
    "\n",
    "random_vector_for_generation = tf.random.normal( shape=[num_examples_to_generate, latent_dim])\n",
    "model_gen= Generator(latent_dim)\n",
    "model_disc=Discriminator()"
   ]
  },
  {
   "cell_type": "code",
   "execution_count": 14,
   "metadata": {
    "colab": {
     "base_uri": "https://localhost:8080/",
     "height": 69
    },
    "colab_type": "code",
    "id": "ezXILsyRtsdL",
    "outputId": "53a5c434-908f-4686-ea9c-21251bb3e0d7"
   },
   "outputs": [
    {
     "name": "stdout",
     "output_type": "stream",
     "text": [
      "(32, 28, 28, 1)\n",
      "(32, 28, 28, 1)\n",
      "tf.Tensor(0.021900106, shape=(), dtype=float32)\n"
     ]
    }
   ],
   "source": [
    "test_input=train_images[0:32]\n",
    "test_input=test_input.reshape(32, 28, 28, 1)\n",
    "print(test_input.shape)\n",
    "\n",
    "ds_image=distort_batch(test_input)\n",
    "mean, logvar=model_gen.encode(ds_image)\n",
    "z = model_gen.reparameterize(mean, logvar)\n",
    "x, y, r=model_gen.coordinates(28, 28, 1, 32)\n",
    "images=model_gen.create_image(x, 28, y, 28, r, z,32)\n",
    "print(images.shape)\n",
    "res=model_disc.discriminate(images)\n",
    "print(compute_loss(model_gen, model_disc, test_input))\n",
    "\n",
    "plt.figure()\n",
    "plt.imshow(images[0, :, :, 0], cmap='gray')\n",
    "plt.show()\n"
   ]
  },
  {
   "cell_type": "code",
   "execution_count": 15,
   "metadata": {
    "colab": {},
    "colab_type": "code",
    "id": "76xeEmFHwL5T"
   },
   "outputs": [],
   "source": [
    "def generate_and_save_images(model_gen, epoch, test_sample):\n",
    "  batch_size=len(test_sample)\n",
    "  mean, logvar = model_gen.encode(test_sample)\n",
    "  z = model_gen.reparameterize(mean, logvar)\n",
    "  x, y, r=model_gen.coordinates(28, 28, 1, batch_size)\n",
    "  images=model_gen.create_image(x, 28, y, 28, r, z, batch_size)\n",
    "  fig=plt.figure(figsize=(8,4))\n",
    "  for i in range(images.shape[0]):\n",
    "    plt.subplot(8, 4, i+1)\n",
    "    plt.imshow(images[i, :, :, 0], cmap='gray')\n",
    "    plt.axis('off')\n",
    "  plt.show()\n"
   ]
  },
  {
   "cell_type": "code",
   "execution_count": 16,
   "metadata": {
    "colab": {},
    "colab_type": "code",
    "id": "t-UmmF6ixi0d"
   },
   "outputs": [],
   "source": [
    "assert batch_size >= num_examples_to_generate\n",
    "for test_batch in test_dataset.take(1):\n",
    "  test_sample = test_batch[0:num_examples_to_generate, :, :, :]\n",
    "  test_sample=distort_batch(test_sample)\n"
   ]
  },
  {
   "cell_type": "code",
   "execution_count": 17,
   "metadata": {
    "colab": {
     "base_uri": "https://localhost:8080/",
     "height": 265
    },
    "colab_type": "code",
    "id": "gWS5YW3hVDwI",
    "outputId": "2f56382d-5c7e-47c0-a91a-050176c77697"
   },
   "outputs": [
    {
     "name": "stdout",
     "output_type": "stream",
     "text": [
      "(26, 26, 1)\n"
     ]
    },
    {
     "data": {
      "image/png": "[encoded data removed]",
      "text/plain": [
       "<Figure size 432x288 with 32 Axes>"
      ]
     },
     "metadata": {
      "needs_background": "light",
      "tags": []
     },
     "output_type": "display_data"
    }
   ],
   "source": [
    "for i in range(test_sample.shape[0]):\n",
    "    plt.subplot(8, 4, i+1)\n",
    "    plt.imshow(test_sample[i, :, :, 0], cmap='gray')\n",
    "    plt.axis('off')\n",
    "\n",
    "print(test_sample.shape[1:])"
   ]
  },
  {
   "cell_type": "code",
   "execution_count": 28,
   "metadata": {
    "colab": {
     "base_uri": "https://localhost:8080/",
     "height": 265
    },
    "colab_type": "code",
    "id": "6Pj71labxqGr",
    "outputId": "103be46b-217d-4f00-a7ef-a27a3e964759"
   },
   "outputs": [
    {
     "name": "stdout",
     "output_type": "stream",
     "text": [
      "Epoch: 30, Loss:, time elapse for current epoch: 56.19726324081421\n"
     ]
    },
    {
     "data": {
      "image/png": "[encoded data removed]",
      "text/plain": [
       "<Figure size 576x288 with 32 Axes>"
      ]
     },
     "metadata": {
      "needs_background": "light",
      "tags": []
     },
     "output_type": "display_data"
    }
   ],
   "source": [
    "generate_and_save_images(model_gen, 0, test_sample)\n",
    "\n",
    "for epoch in range(1, epochs + 1):\n",
    "  start_time = time.time()\n",
    "  for train_x in train_dataset:\n",
    "    train_x_26=distort_batch(train_x)\n",
    "    train_step(model_gen, model_disc, train_x, train_x_26, optimizer_disc, optimizer_gen)\n",
    "  end_time = time.time()\n",
    "\n",
    "  # loss = tf.keras.metrics.Mean()\n",
    "  # for test_x in test_dataset:\n",
    "  #   loss(compute_loss(model_gen, model_disc, test_x))\n",
    "  # elbo = -loss.result()\n",
    "  display.clear_output(wait=False)\n",
    "  print('Epoch: {}, Loss:, time elapse for current epoch: {}'\n",
    "        .format(epoch, end_time - start_time))\n",
    "  generate_and_save_images(model_gen, epoch, test_sample)\n"
   ]
  },
  {
   "cell_type": "code",
   "execution_count": 42,
   "metadata": {
    "colab": {
     "base_uri": "https://localhost:8080/",
     "height": 303
    },
    "colab_type": "code",
    "id": "607L5nkIFV-t",
    "outputId": "b095b202-7c50-497b-c5b3-eff2c057a6ed"
   },
   "outputs": [
    {
     "name": "stdout",
     "output_type": "stream",
     "text": [
      "(1, 28, 28, 1)\n",
      "(1, 100, 100, 1)\n"
     ]
    },
    {
     "data": {
      "image/png": "[encoded data removed]",
      "text/plain": [
       "<Figure size 432x288 with 1 Axes>"
      ]
     },
     "metadata": {
      "needs_background": "light",
      "tags": []
     },
     "output_type": "display_data"
    }
   ],
   "source": [
    "test_input=train_images[45]\n",
    "test_input=test_input.reshape(1, 28, 28, 1)\n",
    "print(test_input.shape)\n",
    "\n",
    "ds_image=distort_batch(test_input)\n",
    "mean, logvar=model_gen.encode(ds_image)\n",
    "z = model_gen.reparameterize(mean, logvar)\n",
    "x, y, r=model_gen.coordinates(100, 100, 1, 1)\n",
    "images=model_gen.create_image(x, 100, y, 100, r, z,1)\n",
    "print(images.shape)\n",
    "\n",
    "plt.figure()\n",
    "plt.imshow(images[0, :, :, 0], cmap='gray', interpolation='nearest')\n",
    "plt.show()"
   ]
  }
 ],
 "metadata": {
  "accelerator": "GPU",
  "colab": {
   "collapsed_sections": [],
   "name": "Final.ipynb",
   "provenance": []
  },
  "kernelspec": {
   "display_name": "Python 3",
   "language": "python",
   "name": "python3"
  },
  "language_info": {
   "codemirror_mode": {
    "name": "ipython",
    "version": 3
   },
   "file_extension": ".py",
   "mimetype": "text/x-python",
   "name": "python",
   "nbconvert_exporter": "python",
   "pygments_lexer": "ipython3",
   "version": "3.6.9"
  }
 },
 "nbformat": 4,
 "nbformat_minor": 1
}
